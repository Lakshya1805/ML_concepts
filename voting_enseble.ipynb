{
  "nbformat": 4,
  "nbformat_minor": 0,
  "metadata": {
    "colab": {
      "provenance": []
    },
    "kernelspec": {
      "name": "python3",
      "display_name": "Python 3"
    },
    "language_info": {
      "name": "python"
    }
  },
  "cells": [
    {
      "cell_type": "code",
      "execution_count": null,
      "metadata": {
        "id": "37mC7S1dvAsG"
      },
      "outputs": [],
      "source": [
        "import numpy as np\n",
        "import pandas as pd"
      ]
    },
    {
      "cell_type": "code",
      "source": [
        "from sklearn.datasets import make_classification"
      ],
      "metadata": {
        "id": "rdEYMH-jv0j7"
      },
      "execution_count": null,
      "outputs": []
    },
    {
      "cell_type": "code",
      "source": [
        "x,y = make_classification(n_samples= 1000,n_features=20,n_informative=15,n_redundant=5,n_classes=3)"
      ],
      "metadata": {
        "id": "6_J0Hw3lv-RB"
      },
      "execution_count": null,
      "outputs": []
    },
    {
      "cell_type": "code",
      "source": [],
      "metadata": {
        "id": "j6vboNU5wfef"
      },
      "execution_count": null,
      "outputs": []
    },
    {
      "cell_type": "code",
      "source": [
        "x.shape"
      ],
      "metadata": {
        "colab": {
          "base_uri": "https://localhost:8080/"
        },
        "id": "vOA-O8xkwhHq",
        "outputId": "31b6e79f-25f8-49e4-f5d2-e352d23788d8"
      },
      "execution_count": null,
      "outputs": [
        {
          "output_type": "execute_result",
          "data": {
            "text/plain": [
              "(1000, 20)"
            ]
          },
          "metadata": {},
          "execution_count": 12
        }
      ]
    },
    {
      "cell_type": "code",
      "source": [
        "y.shape"
      ],
      "metadata": {
        "colab": {
          "base_uri": "https://localhost:8080/"
        },
        "id": "kxpdTcM3wtE6",
        "outputId": "f162fd16-c2e6-4218-b120-f85741af87ef"
      },
      "execution_count": null,
      "outputs": [
        {
          "output_type": "execute_result",
          "data": {
            "text/plain": [
              "(1000,)"
            ]
          },
          "metadata": {},
          "execution_count": 13
        }
      ]
    },
    {
      "cell_type": "code",
      "source": [
        "from sklearn.linear_model import LogisticRegression\n",
        "from sklearn.tree import DecisionTreeClassifier\n",
        "from sklearn.neighbors import KNeighborsClassifier\n",
        "from sklearn.model_selection import cross_val_score"
      ],
      "metadata": {
        "id": "ZKxYT9Duxe0o"
      },
      "execution_count": null,
      "outputs": []
    },
    {
      "cell_type": "code",
      "source": [
        "cf1 = LogisticRegression()\n",
        "cf2 = DecisionTreeClassifier()\n",
        "cf3 = KNeighborsClassifier()"
      ],
      "metadata": {
        "id": "0EEHM9Uhyjgk"
      },
      "execution_count": null,
      "outputs": []
    },
    {
      "cell_type": "code",
      "source": [
        "estimators = [('lr',cf1),('dt',cf2),('knn',cf3)]"
      ],
      "metadata": {
        "id": "1Im4ozFjyyjA"
      },
      "execution_count": null,
      "outputs": []
    },
    {
      "cell_type": "code",
      "source": [
        "for estimator in estimators:\n",
        "  result = cross_val_score(estimator[1],x,y,cv=10,scoring='accuracy')\n",
        "  print(estimator[0],np.round(np.mean(result),2))"
      ],
      "metadata": {
        "colab": {
          "base_uri": "https://localhost:8080/"
        },
        "id": "BzjNQAO9zJlI",
        "outputId": "1a049548-28f3-4fef-e1a0-c4050c76412e"
      },
      "execution_count": null,
      "outputs": [
        {
          "output_type": "stream",
          "name": "stdout",
          "text": [
            "lr 0.76\n",
            "dt 0.65\n",
            "knn 0.82\n"
          ]
        }
      ]
    },
    {
      "cell_type": "code",
      "source": [
        "from sklearn.ensemble import VotingClassifier"
      ],
      "metadata": {
        "id": "PZ_hGEGq0dk1"
      },
      "execution_count": null,
      "outputs": []
    },
    {
      "cell_type": "code",
      "source": [
        "vc = VotingClassifier(estimators,voting='hard')"
      ],
      "metadata": {
        "id": "TCcE3y6i14u7"
      },
      "execution_count": null,
      "outputs": []
    },
    {
      "cell_type": "code",
      "source": [
        "b = cross_val_score(vc,x,y,cv=10,scoring = 'accuracy')\n",
        "print(np.round(np.mean(b),2))"
      ],
      "metadata": {
        "colab": {
          "base_uri": "https://localhost:8080/"
        },
        "id": "Gl1QIlU42JTi",
        "outputId": "ff29a70a-fc29-458d-8330-21f5f502f713"
      },
      "execution_count": null,
      "outputs": [
        {
          "output_type": "stream",
          "name": "stdout",
          "text": [
            "0.81\n"
          ]
        }
      ]
    },
    {
      "cell_type": "code",
      "source": [
        "for i in range(1,4):\n",
        "  for j in range(1,4):\n",
        "    for k in range(1,4):\n",
        "      vc = VotingClassifier(estimators,voting='hard',weights=(i,j,k))\n",
        "      b = cross_val_score(vc,x,y,cv=10,scoring = 'accuracy')\n",
        "      print(\"for i={},j={},k={}\".format(i,j,k),np.round(np.mean(b),2))\n"
      ],
      "metadata": {
        "colab": {
          "base_uri": "https://localhost:8080/"
        },
        "id": "twXl6Xgl22PJ",
        "outputId": "82962de5-178d-4066-ef5a-0303a9f8cddc"
      },
      "execution_count": null,
      "outputs": [
        {
          "output_type": "stream",
          "name": "stdout",
          "text": [
            "for i=1,j=1,k=1 0.81\n",
            "for i=1,j=1,k=2 0.82\n",
            "for i=1,j=1,k=3 0.82\n",
            "for i=1,j=2,k=1 0.73\n",
            "for i=1,j=2,k=2 0.82\n",
            "for i=1,j=2,k=3 0.83\n",
            "for i=1,j=3,k=1 0.66\n",
            "for i=1,j=3,k=2 0.74\n",
            "for i=1,j=3,k=3 0.81\n",
            "for i=2,j=1,k=1 0.79\n",
            "for i=2,j=1,k=2 0.82\n",
            "for i=2,j=1,k=3 0.82\n",
            "for i=2,j=2,k=1 0.81\n",
            "for i=2,j=2,k=2 0.81\n",
            "for i=2,j=2,k=3 0.82\n",
            "for i=2,j=3,k=1 0.73\n",
            "for i=2,j=3,k=2 0.81\n",
            "for i=2,j=3,k=3 0.81\n",
            "for i=3,j=1,k=1 0.76\n",
            "for i=3,j=1,k=2 0.79\n",
            "for i=3,j=1,k=3 0.81\n",
            "for i=3,j=2,k=1 0.79\n",
            "for i=3,j=2,k=2 0.81\n",
            "for i=3,j=2,k=3 0.81\n",
            "for i=3,j=3,k=1 0.8\n",
            "for i=3,j=3,k=2 0.81\n",
            "for i=3,j=3,k=3 0.8\n"
          ]
        }
      ]
    },
    {
      "cell_type": "code",
      "source": [
        "from sklearn.datasets import load_diabetes"
      ],
      "metadata": {
        "id": "Fz5__0R35V-I"
      },
      "execution_count": null,
      "outputs": []
    },
    {
      "cell_type": "code",
      "source": [
        "x,y = load_diabetes(return_X_y= True)"
      ],
      "metadata": {
        "id": "6Ke9tk8g9vcO"
      },
      "execution_count": null,
      "outputs": []
    },
    {
      "cell_type": "code",
      "source": [
        "from sklearn.linear_model import LinearRegression\n",
        "from sklearn.tree import DecisionTreeRegressor\n",
        "from sklearn.svm import SVR\n"
      ],
      "metadata": {
        "id": "yT4cKKCE95F3"
      },
      "execution_count": null,
      "outputs": []
    },
    {
      "cell_type": "code",
      "source": [
        "r1 = LinearRegression()\n",
        "r2 = DecisionTreeRegressor()\n",
        "r3 = SVR()"
      ],
      "metadata": {
        "id": "c2seYDUY-YVc"
      },
      "execution_count": null,
      "outputs": []
    },
    {
      "cell_type": "code",
      "source": [
        "estimatorz = [('lr',r1),('dt',r2),('svm',r3)]"
      ],
      "metadata": {
        "id": "G_QOldaz-w43"
      },
      "execution_count": null,
      "outputs": []
    },
    {
      "cell_type": "code",
      "source": [
        "for estimator in estimatorz:\n",
        "  result = cross_val_score(estimator[1],x,y,cv=10,scoring = 'r2')\n",
        "  print(estimator[0],np.round(np.mean(result),2))"
      ],
      "metadata": {
        "colab": {
          "base_uri": "https://localhost:8080/"
        },
        "id": "8JlgHOSI-6ED",
        "outputId": "b3d0d385-9b88-448d-d10d-507b9c73b805"
      },
      "execution_count": null,
      "outputs": [
        {
          "output_type": "stream",
          "name": "stdout",
          "text": [
            "lr 0.46\n",
            "dt -0.24\n",
            "svm 0.15\n"
          ]
        }
      ]
    },
    {
      "cell_type": "code",
      "source": [
        "from sklearn.ensemble import VotingRegressor"
      ],
      "metadata": {
        "id": "D3VnH839_ohO"
      },
      "execution_count": null,
      "outputs": []
    },
    {
      "cell_type": "code",
      "source": [
        "\n",
        "vc1 = VotingRegressor(estimatorz)"
      ],
      "metadata": {
        "id": "DJ4DWPu2_Q4g"
      },
      "execution_count": null,
      "outputs": []
    },
    {
      "cell_type": "code",
      "source": [
        "b = cross_val_score(vc1,x,y,cv=10,scoring = 'r2')\n",
        "print(np.round(np.mean(b),2))"
      ],
      "metadata": {
        "colab": {
          "base_uri": "https://localhost:8080/"
        },
        "id": "EbJIpYIq_5Bb",
        "outputId": "150c0072-b3d8-4eea-f3b1-1ababc8af6b1"
      },
      "execution_count": null,
      "outputs": [
        {
          "output_type": "stream",
          "name": "stdout",
          "text": [
            "0.35\n"
          ]
        }
      ]
    },
    {
      "cell_type": "code",
      "source": [
        "for i in range(1,5):\n",
        "  for j in range(1,5):\n",
        "    for k in range(1,5):\n",
        "      vc1 = VotingRegressor(estimatorz,weights=(i,j,k))\n",
        "      b = cross_val_score(vc1,x,y,cv=10,scoring = 'r2')\n",
        "      print(\"for i={},j={},k={}\".format(i,j,k),np.round(np.mean(b),2))"
      ],
      "metadata": {
        "colab": {
          "base_uri": "https://localhost:8080/"
        },
        "id": "jDjmjfKWAGS6",
        "outputId": "00e6a627-4c3d-48f8-a579-f703e7f37abd"
      },
      "execution_count": null,
      "outputs": [
        {
          "output_type": "stream",
          "name": "stdout",
          "text": [
            "for i=1,j=1,k=1 0.34\n",
            "for i=1,j=1,k=2 0.34\n",
            "for i=1,j=1,k=3 0.31\n",
            "for i=1,j=1,k=4 0.3\n",
            "for i=1,j=2,k=1 0.26\n",
            "for i=1,j=2,k=2 0.29\n",
            "for i=1,j=2,k=3 0.3\n",
            "for i=1,j=2,k=4 0.3\n",
            "for i=1,j=3,k=1 0.19\n",
            "for i=1,j=3,k=2 0.25\n",
            "for i=1,j=3,k=3 0.27\n",
            "for i=1,j=3,k=4 0.28\n",
            "for i=1,j=4,k=1 0.16\n",
            "for i=1,j=4,k=2 0.21\n",
            "for i=1,j=4,k=3 0.22\n",
            "for i=1,j=4,k=4 0.25\n",
            "for i=2,j=1,k=1 0.39\n",
            "for i=2,j=1,k=2 0.38\n",
            "for i=2,j=1,k=3 0.37\n",
            "for i=2,j=1,k=4 0.34\n",
            "for i=2,j=2,k=1 0.31\n",
            "for i=2,j=2,k=2 0.35\n",
            "for i=2,j=2,k=3 0.34\n",
            "for i=2,j=2,k=4 0.34\n",
            "for i=2,j=3,k=1 0.29\n",
            "for i=2,j=3,k=2 0.3\n",
            "for i=2,j=3,k=3 0.32\n",
            "for i=2,j=3,k=4 0.31\n",
            "for i=2,j=4,k=1 0.22\n",
            "for i=2,j=4,k=2 0.27\n",
            "for i=2,j=4,k=3 0.28\n",
            "for i=2,j=4,k=4 0.31\n",
            "for i=3,j=1,k=1 0.42\n",
            "for i=3,j=1,k=2 0.41\n",
            "for i=3,j=1,k=3 0.4\n",
            "for i=3,j=1,k=4 0.38\n",
            "for i=3,j=2,k=1 0.37\n",
            "for i=3,j=2,k=2 0.38\n",
            "for i=3,j=2,k=3 0.37\n",
            "for i=3,j=2,k=4 0.36\n",
            "for i=3,j=3,k=1 0.33\n",
            "for i=3,j=3,k=2 0.34\n",
            "for i=3,j=3,k=3 0.34\n",
            "for i=3,j=3,k=4 0.35\n",
            "for i=3,j=4,k=1 0.28\n",
            "for i=3,j=4,k=2 0.3\n",
            "for i=3,j=4,k=3 0.32\n",
            "for i=3,j=4,k=4 0.33\n",
            "for i=4,j=1,k=1 0.43\n",
            "for i=4,j=1,k=2 0.43\n",
            "for i=4,j=1,k=3 0.41\n",
            "for i=4,j=1,k=4 0.4\n",
            "for i=4,j=2,k=1 0.39\n",
            "for i=4,j=2,k=2 0.39\n",
            "for i=4,j=2,k=3 0.39\n",
            "for i=4,j=2,k=4 0.38\n",
            "for i=4,j=3,k=1 0.34\n",
            "for i=4,j=3,k=2 0.37\n",
            "for i=4,j=3,k=3 0.37\n",
            "for i=4,j=3,k=4 0.37\n",
            "for i=4,j=4,k=1 0.31\n",
            "for i=4,j=4,k=2 0.35\n",
            "for i=4,j=4,k=3 0.34\n",
            "for i=4,j=4,k=4 0.35\n"
          ]
        }
      ]
    },
    {
      "cell_type": "code",
      "source": [
        "vc1 = VotingRegressor(estimatorz,weights=(5,1,1))\n",
        "b = cross_val_score(vc1,x,y,cv=10,scoring = 'r2')\n",
        "print(np.round(np.mean(b),2))"
      ],
      "metadata": {
        "colab": {
          "base_uri": "https://localhost:8080/"
        },
        "id": "XbgdW3vmAcLk",
        "outputId": "d85725cb-96f4-49ee-d5f6-79125b868105"
      },
      "execution_count": null,
      "outputs": [
        {
          "output_type": "stream",
          "name": "stdout",
          "text": [
            "0.44\n"
          ]
        }
      ]
    },
    {
      "cell_type": "code",
      "source": [],
      "metadata": {
        "id": "waI_bgmcC-UC"
      },
      "execution_count": null,
      "outputs": []
    }
  ]
}